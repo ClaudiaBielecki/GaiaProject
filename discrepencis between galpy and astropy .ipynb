{
 "cells": [
  {
   "cell_type": "code",
   "execution_count": 1,
   "id": "addf14af",
   "metadata": {},
   "outputs": [],
   "source": [
    "import numpy as np\n",
    "from astropy.table import QTable\n",
    "import astropy.coordinates as coord\n",
    "import astropy.units as u\n",
    "\n",
    "from galpy.potential import NFWPotential, HernquistPotential, MiyamotoNagaiPotential\n",
    "from galpy.potential import evaluatePotentials as evalPot\n",
    "from galpy.orbit import Orbit"
   ]
  },
  {
   "cell_type": "markdown",
   "id": "cda5c91d",
   "metadata": {},
   "source": [
    "# Importing data and transforming to Galactic Coordinates"
   ]
  },
  {
   "cell_type": "code",
   "execution_count": 2,
   "id": "842d36b2",
   "metadata": {},
   "outputs": [],
   "source": [
    "# importing the data as an astropy table\n",
    "# the data has been downloaded with the following criteria:\n",
    "# - non null radial velocities\n",
    "# - parallax_over_error > 5\n",
    "# - ruwe <1 .4\n",
    "# - parallax > 0.183 (to account for the parallax zero point of 0.017 mas)\n",
    "gaia_rad = QTable.read(\"1655774299211O-result.csv\")\n",
    "#print(len(gaia_rad))"
   ]
  },
  {
   "cell_type": "code",
   "execution_count": 3,
   "id": "48169264",
   "metadata": {},
   "outputs": [],
   "source": [
    "# Making a SkyCoord object to easily transform between coordinates\n",
    "gaia_rad = gaia_rad[0:5]\n",
    "c = coord.SkyCoord(ra = gaia_rad['ra']*u.deg,\n",
    "                   dec = gaia_rad['dec']*u.deg,\n",
    "                   distance = coord.Distance(parallax = (u.Quantity(gaia_rad['parallax'] ) +0.017)*u.mas),\n",
    "                   pm_ra_cosdec = gaia_rad['pmra']*u.mas/u.year,\n",
    "                   pm_dec = gaia_rad['pmdec']*u.mas/u.year,\n",
    "                   radial_velocity = gaia_rad['radial_velocity']*u.km/u.s,\n",
    "                   frame = 'icrs')\n"
   ]
  },
  {
   "cell_type": "markdown",
   "id": "691093fe",
   "metadata": {},
   "source": [
    "# Astropy computation"
   ]
  },
  {
   "cell_type": "code",
   "execution_count": 40,
   "id": "8913a84c",
   "metadata": {},
   "outputs": [],
   "source": [
    "# transforming data to galactocentric coordinate system\n",
    "galactocent = c.transform_to(coord.Galactocentric())\n",
    "\n",
    "def Ang_Mom(coords):\n",
    "    c = coords\n",
    "    L_x =  (c.y * c.v_z - c.z * c.v_y)\n",
    "    L_y =  (c.z * c.v_x - c.x * c.v_z)\n",
    "    L_z = -(c.x * c.v_y - c.y * c.v_x) # sign is flipped by convention\n",
    "    L_T = np.sqrt(L_x**2+L_y**2+L_z**2)\n",
    "    return L_T, L_z # in pc * km/s \n",
    "\n",
    "def Energy(coords):\n",
    "    c = coords\n",
    "    G = 4.301 * 10**(-6) *u.kpc* (u.kilometer/u.s)**2/u.solMass\n",
    "    M_h = 10**12 *u.solMass\n",
    "    M_d = 9.3*10**10 *u.solMass\n",
    "    M_b = 3*10**10 *u.solMass\n",
    "    r_s = 21.5 *u.kpc \n",
    "    a_d = 6.5 *u.kpc  \n",
    "    b_d = 0.26 *u.kpc \n",
    "    c_b = 0.7 *u.kpc\n",
    "    \n",
    "    HaloPot = NFWPotential(amp = G*M_h/(np.log(2)-0.5), a = r_s)\n",
    "    DiskPot = MiyamotoNagaiPotential(amp = G*M_d, a = a_d, b = b_d)\n",
    "    BulgePot = HernquistPotential(amp = 2*G*M_b, a = c_b)\n",
    "    \n",
    "    R = np.sqrt(c.x**2 + c.y**2)*u.kpc/(1000*u.pc)\n",
    "    z = c.z *u.kpc/(1000*u.pc)\n",
    "    Halo = evalPot(HaloPot, R, z) # in km^2/s^2\n",
    "    Disk = evalPot(HaloPot, R, z) # in km^2/s^2\n",
    "    Bulge = evalPot(HaloPot, R, z)# in km^2/s^2\n",
    "    \n",
    "    Potential = Halo + Disk + Bulge\n",
    "    Kinetic = (c.v_x**2+ c.v_y**2 + c.v_z**2)/2\n",
    "    \n",
    "    return Kinetic , Potential # in km^2/s^2"
   ]
  },
  {
   "cell_type": "code",
   "execution_count": 41,
   "id": "134b08db",
   "metadata": {},
   "outputs": [],
   "source": [
    "a_EK , a_EP = Energy(galactocent) \n",
    "_, a_Lz = Ang_Mom(galactocent)\n",
    "a_x = galactocent.x\n",
    "a_y = galactocent.y\n",
    "a_z = galactocent.z\n",
    "a_vx = galactocent.v_x\n",
    "a_vy = galactocent.v_y\n",
    "a_vz = galactocent.v_z"
   ]
  },
  {
   "cell_type": "markdown",
   "id": "8535f67e",
   "metadata": {},
   "source": [
    "# galpy computations"
   ]
  },
  {
   "cell_type": "code",
   "execution_count": 30,
   "id": "f1f3cfb2",
   "metadata": {},
   "outputs": [],
   "source": [
    "G = 4.301 * 10**(-6) *u.kpc* (u.kilometer/u.s)**2/u.solMass\n",
    "M_h = 10**12 *u.solMass\n",
    "M_d = 9.3*10**10 *u.solMass\n",
    "M_b = 3*10**10 *u.solMass\n",
    "r_s = 21.5 *u.kpc \n",
    "a_d = 6.5 *u.kpc  \n",
    "b_d = 0.26 *u.kpc \n",
    "c_b = 0.7 *u.kpc\n",
    "   \n",
    "HaloPot = NFWPotential(amp = G*M_h/(np.log(2)-0.5), a = r_s)\n",
    "DiskPot = MiyamotoNagaiPotential(amp = G*M_d, a = a_d, b = b_d)\n",
    "BulgePot = HernquistPotential(amp = 2*G*M_b, a = c_b)\n",
    "Potential = HaloPot + DiskPot + BulgePot\n",
    "\n",
    "orbits =Orbit(c)# Orbit(c, ro = 8.2, vo = 220)"
   ]
  },
  {
   "cell_type": "code",
   "execution_count": 31,
   "id": "118b5c31",
   "metadata": {},
   "outputs": [],
   "source": [
    "g_E = orbits.E(pot = Potential)\n",
    "g_Lz = orbits.Lz(pot = Potential)\n",
    "g_x = orbits.x()\n",
    "g_y = orbits.y()\n",
    "g_z = orbits.z()\n",
    "g_vx = orbits.vx()\n",
    "g_vy = orbits.vy()\n",
    "g_vz = orbits.vz()"
   ]
  },
  {
   "cell_type": "markdown",
   "id": "c87ebc9f",
   "metadata": {},
   "source": [
    "# Positions"
   ]
  },
  {
   "cell_type": "code",
   "execution_count": 32,
   "id": "22ef40db",
   "metadata": {},
   "outputs": [
    {
     "name": "stdout",
     "output_type": "stream",
     "text": [
      "x astropy:\n",
      "[-7006.62378522 -4782.32031475 -6301.42596884 -4418.90342306\n",
      " -3946.45277294] pc\n",
      "x galpy:\n",
      "[6.88465241 4.66035154 6.17945537 4.2969357  3.82448576] kpc\n",
      "y astropy:\n",
      "[ 527.85223382 1547.86684587  851.51043883 1732.59761818 1953.5641276 ] pc\n",
      "y galpy:\n",
      "[0.52785223 1.54786685 0.85151044 1.73259762 1.95356413] kpc\n",
      "z astropy:\n",
      "[ -30.26900092  -96.64735707  -50.14436696 -123.55992275 -141.71195453] pc\n",
      "z galpy:\n",
      "[-0.03031255 -0.09677776 -0.05021545 -0.12370451 -0.14187499] kpc\n"
     ]
    }
   ],
   "source": [
    "print('x astropy:')\n",
    "print(a_x)\n",
    "print('x galpy:')\n",
    "print(g_x)\n",
    "print('y astropy:')\n",
    "print(a_y)\n",
    "print('y galpy:')\n",
    "print(g_y)\n",
    "print('z astropy:')\n",
    "print(a_z)\n",
    "print('z galpy:')\n",
    "print(g_z)"
   ]
  },
  {
   "cell_type": "markdown",
   "id": "7fd9b694",
   "metadata": {},
   "source": [
    "# velocities"
   ]
  },
  {
   "cell_type": "code",
   "execution_count": 33,
   "id": "9dd7714b",
   "metadata": {},
   "outputs": [
    {
     "name": "stdout",
     "output_type": "stream",
     "text": [
      "vx astropy:\n",
      "[38.17883484  6.85025766 52.19156701 98.93769865 21.11563058] km / s\n",
      "vx galpy:\n",
      "[-36.37847901  -5.05003799 -50.39099061 -97.13774719 -19.31415305] km / s\n",
      "vy astropy:\n",
      "[237.51773567 254.55872067 229.45873559 220.25720422 217.09833241] km / s\n",
      "vy galpy:\n",
      "[224.15773567 241.19872067 216.09873559 206.89720422 203.73833241] km / s\n",
      "vz astropy:\n",
      "[ -1.33288865   2.15402644  -6.98136386   9.02482263 -30.06080692] km / s\n",
      "vz galpy:\n",
      "[ -1.86387567   1.62426266  -7.51289802   8.49146322 -30.59112767] km / s\n"
     ]
    }
   ],
   "source": [
    "print('vx astropy:')\n",
    "print(a_vx)\n",
    "print('vx galpy:')\n",
    "print(g_vx)\n",
    "print('vy astropy:')\n",
    "print(a_vy)\n",
    "print('vy galpy:')\n",
    "print(g_vy)\n",
    "print('vz astropy:')\n",
    "print(a_vz)\n",
    "print('vz galpy:')\n",
    "print(g_vz)"
   ]
  },
  {
   "cell_type": "markdown",
   "id": "c6feef0f",
   "metadata": {},
   "source": [
    "# Energies"
   ]
  },
  {
   "cell_type": "code",
   "execution_count": 45,
   "id": "ac6c6233",
   "metadata": {},
   "outputs": [
    {
     "name": "stdout",
     "output_type": "stream",
     "text": [
      "E astropy:\n",
      "K \n",
      " [28937.03739082 32425.85406415 27712.00522422 29191.67582511\n",
      " 24240.6039508 ] km2 / s2 \n",
      "P \n",
      " [-2688514.91044003 -2792133.47828987 -2721993.11270562 -2807465.44962058\n",
      " -2826545.84869076] km2 / s2 \n",
      "Total \n",
      " [-2659577.87304921 -2759707.62422572 -2694281.1074814  -2778273.77379546\n",
      " -2802305.24473996] km2 / s2\n",
      "E galpy:\n",
      "[-930746.37410698 -974503.90571392 -946809.12832615 -984614.91049782\n",
      " -998396.99405109] km2 / s2\n"
     ]
    }
   ],
   "source": [
    "print('E astropy:')\n",
    "print('K \\n',a_EK, '\\nP \\n', a_EP, '\\nTotal \\n', a_EP+a_EK)\n",
    "print('E galpy:')\n",
    "print(g_E)"
   ]
  },
  {
   "cell_type": "markdown",
   "id": "7d3ded72",
   "metadata": {},
   "source": [
    "# Angular Momenta"
   ]
  },
  {
   "cell_type": "code",
   "execution_count": 35,
   "id": "27383884",
   "metadata": {},
   "outputs": [
    {
     "name": "stdout",
     "output_type": "stream",
     "text": [
      "Lz astropy:\n",
      "[1684350.19943949 1227984.62786179 1490358.89937539 1144714.53472984\n",
      "  898019.05436567] km pc / s\n",
      "Lz galpy:\n",
      "[1562.45055742 1131.88761496 1378.28094755 1057.32461173  816.92578668] km kpc / s\n"
     ]
    }
   ],
   "source": [
    "print('Lz astropy:')\n",
    "print(a_Lz)\n",
    "print('Lz galpy:')\n",
    "print(g_Lz)"
   ]
  },
  {
   "cell_type": "code",
   "execution_count": null,
   "id": "f9f37056",
   "metadata": {},
   "outputs": [],
   "source": []
  }
 ],
 "metadata": {
  "kernelspec": {
   "display_name": "Python 3 (ipykernel)",
   "language": "python",
   "name": "python3"
  },
  "language_info": {
   "codemirror_mode": {
    "name": "ipython",
    "version": 3
   },
   "file_extension": ".py",
   "mimetype": "text/x-python",
   "name": "python",
   "nbconvert_exporter": "python",
   "pygments_lexer": "ipython3",
   "version": "3.10.5"
  }
 },
 "nbformat": 4,
 "nbformat_minor": 5
}
