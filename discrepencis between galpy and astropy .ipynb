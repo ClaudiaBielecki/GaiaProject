{
 "cells": [
  {
   "cell_type": "code",
   "execution_count": 1,
   "id": "addf14af",
   "metadata": {},
   "outputs": [
    {
     "name": "stdout",
     "output_type": "stream",
     "text": [
      "galpyWarning: libgalpy C extension module not loaded, because of error 'libopenblas.so.0: cannot open shared object file: No such file or directory' \n"
     ]
    }
   ],
   "source": [
    "import numpy as np\n",
    "from astropy.table import QTable\n",
    "import astropy.coordinates as coord\n",
    "import astropy.units as u\n",
    "\n",
    "from galpy.potential import NFWPotential, HernquistPotential, MiyamotoNagaiPotential\n",
    "from galpy.potential import evaluatePotentials as evalPot\n",
    "from galpy.orbit import Orbit"
   ]
  },
  {
   "cell_type": "markdown",
   "id": "cda5c91d",
   "metadata": {},
   "source": [
    "# Importing data and transforming to Galactic Coordinates"
   ]
  },
  {
   "cell_type": "code",
   "execution_count": 2,
   "id": "842d36b2",
   "metadata": {},
   "outputs": [],
   "source": [
    "# importing the data as an astropy table\n",
    "# the data has been downloaded with the following criteria:\n",
    "# - non null radial velocities\n",
    "# - parallax_over_error > 5\n",
    "# - ruwe <1 .4\n",
    "# - parallax > 0.183 (to account for the parallax zero point of 0.017 mas)\n",
    "gaia_rad = QTable.read(\"1629912465318O-result.csv\")\n",
    "#print(len(gaia_rad))"
   ]
  },
  {
   "cell_type": "code",
   "execution_count": 4,
   "id": "48169264",
   "metadata": {},
   "outputs": [],
   "source": [
    "# Making a SkyCoord object to easily transform between coordinates\n",
    "gaia_rad = gaia_rad[0:5]\n",
    "c = coord.SkyCoord(ra = gaia_rad['ra']*u.deg,\n",
    "                   dec = gaia_rad['dec']*u.deg,\n",
    "                   distance = coord.Distance(parallax = (u.Quantity(gaia_rad['parallax'] ) +0.017)*u.mas),\n",
    "                   pm_ra_cosdec = gaia_rad['pmra']*u.mas/u.year,\n",
    "                   pm_dec = gaia_rad['pmdec']*u.mas/u.year,\n",
    "                   radial_velocity = gaia_rad['dr2_radial_velocity']*u.km/u.s,\n",
    "                   frame = 'icrs')\n"
   ]
  },
  {
   "cell_type": "markdown",
   "id": "691093fe",
   "metadata": {},
   "source": [
    "# Astropy computation"
   ]
  },
  {
   "cell_type": "code",
   "execution_count": 5,
   "id": "8913a84c",
   "metadata": {},
   "outputs": [],
   "source": [
    "# transforming data to galactocentric coordinate system\n",
    "galactocent = c.transform_to(coord.Galactocentric())\n",
    "\n",
    "def Ang_Mom(coords):\n",
    "    c = coords\n",
    "    L_x =  (c.y * c.v_z - c.z * c.v_y)\n",
    "    L_y =  (c.z * c.v_x - c.x * c.v_z)\n",
    "    L_z = -(c.x * c.v_y - c.y * c.v_x) # sign is flipped by convention\n",
    "    L_T = np.sqrt(L_x**2+L_y**2+L_z**2)\n",
    "    return L_T, L_z # in pc * km/s \n",
    "\n",
    "def Energy(coords):\n",
    "    c = coords\n",
    "    G = 4.301 * 10**(-6) *u.kpc* (u.kilometer/u.s)**2/u.solMass\n",
    "    M_h = 10**12 *u.solMass\n",
    "    M_d = 9.3*10**10 *u.solMass\n",
    "    M_b = 3*10**10 *u.solMass\n",
    "    r_s = 21.5 *u.kpc \n",
    "    a_d = 6.5 *u.kpc  \n",
    "    b_d = 0.26 *u.kpc \n",
    "    c_b = 0.7 *u.kpc\n",
    "    \n",
    "    HaloPot = NFWPotential(amp = G*M_h/(np.log(2)-0.5), a = r_s)\n",
    "    DiskPot = MiyamotoNagaiPotential(amp = G*M_d, a = a_d, b = b_d)\n",
    "    BulgePot = HernquistPotential(amp = 2*G*M_b, a = c_b)\n",
    "    \n",
    "    R = np.sqrt(c.x**2 + c.y**2)*u.kpc/(1000*u.pc)\n",
    "    z = c.z *u.kpc/(1000*u.pc)\n",
    "    Halo = evalPot(HaloPot, R, z) # in km^2/s^2\n",
    "    Disk = evalPot(HaloPot, R, z) # in km^2/s^2\n",
    "    Bulge = evalPot(HaloPot, R, z)# in km^2/s^2\n",
    "    \n",
    "    Potential = Halo + Disk + Bulge\n",
    "    Kinetic = (c.v_x**2+ c.v_y**2 + c.v_z**2)/2\n",
    "    \n",
    "    return Kinetic , Potential # in km^2/s^2"
   ]
  },
  {
   "cell_type": "code",
   "execution_count": 6,
   "id": "134b08db",
   "metadata": {},
   "outputs": [],
   "source": [
    "a_EK , a_EP = Energy(galactocent) \n",
    "_, a_Lz = Ang_Mom(galactocent)\n",
    "a_x = galactocent.x\n",
    "a_y = galactocent.y\n",
    "a_z = galactocent.z\n",
    "a_vx = galactocent.v_x\n",
    "a_vy = galactocent.v_y\n",
    "a_vz = galactocent.v_z"
   ]
  },
  {
   "cell_type": "markdown",
   "id": "8535f67e",
   "metadata": {},
   "source": [
    "# galpy computations"
   ]
  },
  {
   "cell_type": "code",
   "execution_count": 7,
   "id": "f1f3cfb2",
   "metadata": {},
   "outputs": [],
   "source": [
    "G = 4.301 * 10**(-6) *u.kpc* (u.kilometer/u.s)**2/u.solMass\n",
    "M_h = 10**12 *u.solMass\n",
    "M_d = 9.3*10**10 *u.solMass\n",
    "M_b = 3*10**10 *u.solMass\n",
    "r_s = 21.5 *u.kpc \n",
    "a_d = 6.5 *u.kpc  \n",
    "b_d = 0.26 *u.kpc \n",
    "c_b = 0.7 *u.kpc\n",
    "   \n",
    "HaloPot = NFWPotential(amp = G*M_h/(np.log(2)-0.5), a = r_s)\n",
    "DiskPot = MiyamotoNagaiPotential(amp = G*M_d, a = a_d, b = b_d)\n",
    "BulgePot = HernquistPotential(amp = 2*G*M_b, a = c_b)\n",
    "Potential = HaloPot + DiskPot + BulgePot\n",
    "\n",
    "orbits =Orbit(c)# Orbit(c, ro = 8.2, vo = 220)"
   ]
  },
  {
   "cell_type": "code",
   "execution_count": 8,
   "id": "118b5c31",
   "metadata": {},
   "outputs": [],
   "source": [
    "g_E = orbits.E(pot = Potential)\n",
    "g_Lz = orbits.Lz(pot = Potential)\n",
    "g_x = orbits.x()\n",
    "g_y = orbits.y()\n",
    "g_z = orbits.z()\n",
    "g_vx = orbits.vx()\n",
    "g_vy = orbits.vy()\n",
    "g_vz = orbits.vz()"
   ]
  },
  {
   "cell_type": "markdown",
   "id": "c87ebc9f",
   "metadata": {},
   "source": [
    "# Positions"
   ]
  },
  {
   "cell_type": "code",
   "execution_count": 9,
   "id": "22ef40db",
   "metadata": {},
   "outputs": [
    {
     "name": "stdout",
     "output_type": "stream",
     "text": [
      "x astropy:\n",
      "[-7291.79873026 -6146.28502723 -7961.56083266 -7036.97018911\n",
      " -7360.42704925] pc\n",
      "x galpy:\n",
      "[7.16982355 6.02431885 7.83958711 6.91500075 7.23844744]\n",
      "y astropy:\n",
      "[646.85027776 314.36184366 124.97148677 171.9855855   33.26166494] pc\n",
      "y galpy:\n",
      "[0.64685028 0.31436184 0.12497149 0.17198559 0.03326166]\n",
      "z astropy:\n",
      "[  67.15137965 -163.38876594   30.02008493  -79.77193301  180.68448326] pc\n",
      "z galpy:\n",
      "[ 0.06711896 -0.16346591  0.03001382 -0.0798143   0.18065475]\n"
     ]
    }
   ],
   "source": [
    "print('x astropy:')\n",
    "print(a_x)\n",
    "print('x galpy:')\n",
    "print(g_x)\n",
    "print('y astropy:')\n",
    "print(a_y)\n",
    "print('y galpy:')\n",
    "print(g_y)\n",
    "print('z astropy:')\n",
    "print(a_z)\n",
    "print('z galpy:')\n",
    "print(g_z)"
   ]
  },
  {
   "cell_type": "markdown",
   "id": "7fd9b694",
   "metadata": {},
   "source": [
    "# velocities"
   ]
  },
  {
   "cell_type": "code",
   "execution_count": 10,
   "id": "9dd7714b",
   "metadata": {},
   "outputs": [
    {
     "name": "stdout",
     "output_type": "stream",
     "text": [
      "vx astropy:\n",
      "[36.05557942 14.14958241  2.84078438  0.05634721 22.04829723] km / s\n",
      "vx galpy:\n",
      "[-34.25530231 -12.34926794  -1.04011258   1.74387036 -20.2477738 ]\n",
      "vy astropy:\n",
      "[244.61189455 202.05636312 231.72172406 263.7569165  209.18537627] km / s\n",
      "vy galpy:\n",
      "[231.25189455 188.69636312 218.36172406 250.3969165  195.82537627]\n",
      "vz astropy:\n",
      "[ 0.68364307 -0.27380154 -9.42565279  2.2075512  -5.62559234] km / s\n",
      "vz galpy:\n",
      "[ 0.15273895 -0.80385032 -9.95526001  1.67805269 -6.15594954]\n"
     ]
    }
   ],
   "source": [
    "print('vx astropy:')\n",
    "print(a_vx)\n",
    "print('vx galpy:')\n",
    "print(g_vx)\n",
    "print('vy astropy:')\n",
    "print(a_vy)\n",
    "print('vy galpy:')\n",
    "print(g_vy)\n",
    "print('vz astropy:')\n",
    "print(a_vz)\n",
    "print('vz galpy:')\n",
    "print(g_vz)"
   ]
  },
  {
   "cell_type": "markdown",
   "id": "c6feef0f",
   "metadata": {},
   "source": [
    "# Energies"
   ]
  },
  {
   "cell_type": "code",
   "execution_count": 14,
   "id": "ac6c6233",
   "metadata": {},
   "outputs": [
    {
     "name": "stdout",
     "output_type": "stream",
     "text": [
      "E astropy:\n",
      "[-2643532.57219632 -2711845.73096656 -2616442.29641945 -2653088.39225906\n",
      " -2649921.74749142]\n",
      "E galpy:\n",
      "[-922832.01932987 -958137.81929638 -912887.66379116 -924874.99605356\n",
      " -929746.20576072]\n"
     ]
    }
   ],
   "source": [
    "print('E astropy:')\n",
    "print( a_EP+a_EK.value)\n",
    "print('E galpy:')\n",
    "print(g_E)"
   ]
  },
  {
   "cell_type": "markdown",
   "id": "7d3ded72",
   "metadata": {},
   "source": [
    "# Angular Momenta"
   ]
  },
  {
   "cell_type": "code",
   "execution_count": 15,
   "id": "27383884",
   "metadata": {},
   "outputs": [
    {
     "name": "stdout",
     "output_type": "stream",
     "text": [
      "Lz astropy:\n",
      "[1806983.26361328 1246344.08809448 1845221.61941412 1856059.24951098\n",
      " 1540427.06488123] km pc / s\n",
      "Lz galpy:\n",
      "[1680.19333246 1140.64919672 1711.99574096 1731.19494503 1418.14516839]\n"
     ]
    }
   ],
   "source": [
    "print('Lz astropy:')\n",
    "print(a_Lz)\n",
    "print('Lz galpy:')\n",
    "print(g_Lz)"
   ]
  },
  {
   "cell_type": "code",
   "execution_count": null,
   "id": "f9f37056",
   "metadata": {},
   "outputs": [],
   "source": []
  }
 ],
 "metadata": {
  "kernelspec": {
   "display_name": "Python 3 (ipykernel)",
   "language": "python",
   "name": "python3"
  },
  "language_info": {
   "codemirror_mode": {
    "name": "ipython",
    "version": 3
   },
   "file_extension": ".py",
   "mimetype": "text/x-python",
   "name": "python",
   "nbconvert_exporter": "python",
   "pygments_lexer": "ipython3",
   "version": "3.9.0"
  }
 },
 "nbformat": 4,
 "nbformat_minor": 5
}
