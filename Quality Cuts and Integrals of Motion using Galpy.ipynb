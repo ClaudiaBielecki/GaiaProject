{
 "cells": [
  {
   "cell_type": "code",
   "execution_count": 1,
   "id": "addf14af",
   "metadata": {},
   "outputs": [
    {
     "name": "stdout",
     "output_type": "stream",
     "text": [
      "galpyWarning: libgalpy C extension module not loaded, because of error 'libopenblas.so.0: cannot open shared object file: No such file or directory' \n"
     ]
    }
   ],
   "source": [
    "import numpy as np\n",
    "from astropy.table import QTable\n",
    "import astropy.coordinates as coord\n",
    "import astropy.units as u\n",
    "\n",
    "from galpy.potential import NFWPotential, HernquistPotential, MiyamotoNagaiPotential\n",
    "from galpy.orbit import Orbit"
   ]
  },
  {
   "cell_type": "markdown",
   "id": "cda5c91d",
   "metadata": {},
   "source": [
    "# Importing data and transforming to Galactic Coordinates"
   ]
  },
  {
   "cell_type": "code",
   "execution_count": 3,
   "id": "842d36b2",
   "metadata": {},
   "outputs": [],
   "source": [
    "# importing the data as an astropy table\n",
    "# the data has been downloaded with the following criteria:\n",
    "# - non null radial velocities\n",
    "# - parallax_over_error > 5\n",
    "# - ruwe <1 .4\n",
    "# - parallax > 0.183 (to account for the parallax zero point of 0.017 mas)\n",
    "gaia_rad = QTable.read(\"1629912465318O-result.csv\")"
   ]
  },
  {
   "cell_type": "code",
   "execution_count": 4,
   "id": "9da6ec35",
   "metadata": {},
   "outputs": [],
   "source": [
    "# getting distance for each source\n",
    "dist = coord.Distance(parallax = (u.Quantity(gaia_rad['parallax'] ) +0.017)*u.mas)"
   ]
  },
  {
   "cell_type": "code",
   "execution_count": 5,
   "id": "48169264",
   "metadata": {},
   "outputs": [],
   "source": [
    "# Making a SkyCoord object to easily transform between coordinates\n",
    "c = coord.SkyCoord(ra = gaia_rad['ra']*u.deg,\n",
    "                   dec = gaia_rad['dec']*u.deg,\n",
    "                   distance = dist,\n",
    "                   pm_ra_cosdec = gaia_rad['pmra']*u.mas/u.year,\n",
    "                   pm_dec = gaia_rad['pmdec']*u.mas/u.year,\n",
    "                   radial_velocity = gaia_rad['dr2_radial_velocity']*u.km/u.s,\n",
    "                   frame = 'icrs')"
   ]
  },
  {
   "cell_type": "code",
   "execution_count": 6,
   "id": "954fbef7",
   "metadata": {},
   "outputs": [],
   "source": [
    "orbits = Orbit(c)"
   ]
  },
  {
   "cell_type": "markdown",
   "id": "2eef5792",
   "metadata": {},
   "source": [
    "# Setting up the Potential"
   ]
  },
  {
   "cell_type": "code",
   "execution_count": 7,
   "id": "434dbb6c",
   "metadata": {},
   "outputs": [],
   "source": [
    "G = 4.301 * 10**(-6) *u.kpc* (u.kilometer/u.s)**2/u.solMass\n",
    "M_h = 10**12 *u.solMass\n",
    "M_d = 9.3*10**10 *u.solMass\n",
    "M_b = 3*10**10 *u.solMass\n",
    "r_s = 21.5 *u.kpc \n",
    "a_d = 6.5 *u.kpc  \n",
    "b_d = 0.26 *u.kpc \n",
    "c_b = 0.7 *u.kpc\n",
    "   \n",
    "HaloPot = NFWPotential(amp = G*M_h/(np.log(2)-0.5), a = r_s)\n",
    "DiskPot = MiyamotoNagaiPotential(amp = G*M_d, a = a_d, b = b_d)\n",
    "BulgePot = HernquistPotential(amp = 2*G*M_b, a = c_b)\n",
    "Potential = HaloPot + DiskPot + BulgePot"
   ]
  },
  {
   "cell_type": "markdown",
   "id": "19f2dc8f",
   "metadata": {},
   "source": [
    "# Computing Integrals of Motion"
   ]
  },
  {
   "cell_type": "code",
   "execution_count": 8,
   "id": "50b91393",
   "metadata": {},
   "outputs": [],
   "source": [
    "E = orbits.E(pot = Potential)\n",
    "Lz = orbits.Lz(pot = Potential)\n",
    "x = orbits.x()\n",
    "y = orbits.y()\n",
    "z = orbits.z()\n",
    "vx = orbits.vx()\n",
    "vy = orbits.vy()\n",
    "vz = orbits.vz()"
   ]
  },
  {
   "cell_type": "code",
   "execution_count": null,
   "id": "77b11fa5",
   "metadata": {},
   "outputs": [],
   "source": []
  }
 ],
 "metadata": {
  "kernelspec": {
   "display_name": "Python 3 (ipykernel)",
   "language": "python",
   "name": "python3"
  },
  "language_info": {
   "codemirror_mode": {
    "name": "ipython",
    "version": 3
   },
   "file_extension": ".py",
   "mimetype": "text/x-python",
   "name": "python",
   "nbconvert_exporter": "python",
   "pygments_lexer": "ipython3",
   "version": "3.9.0"
  }
 },
 "nbformat": 4,
 "nbformat_minor": 5
}
